{
  "metadata": {
    "kernelspec": {
      "name": "python",
      "display_name": "Python (Pyodide)",
      "language": "python"
    },
    "language_info": {
      "codemirror_mode": {
        "name": "python",
        "version": 3
      },
      "file_extension": ".py",
      "mimetype": "text/x-python",
      "name": "python",
      "nbconvert_exporter": "python",
      "pygments_lexer": "ipython3",
      "version": "3.8"
    }
  },
  "nbformat_minor": 4,
  "nbformat": 4,
  "cells": [
    {
      "cell_type": "markdown",
      "source": "# 1. Panorama de la IA\n## Ejercicios\n1. Punto 1: Dé una definicion propia de Inteligencia Artificial.\n2. Punto 2: Vea el video que se encuentra en youtube y realice un análisis de lo discutido en el documento con respecto al video.\n3. Investigue los planes del gobierno con respecto a la IA",
      "metadata": {}
    },
    {
      "cell_type": "markdown",
      "source": "### Punto 1\n#### Enunciado\nDé una definición propia de inteligencia artificial.\n#### Solución\n1. D\n2. F",
      "metadata": {}
    },
    {
      "cell_type": "markdown",
      "source": "### Punto 2\n#### Enunciado\nVea el video que se encuentra en https://www.youtube.com/watch?v=JsnKUCiPHUY&t=7s y realice un análisis de lo discutido en el documento con respecto al video.\n##### Video\n![](https://www.youtube.com/watch?v=JsnKUCiPHUY&t=7s)\n#### Solución\n1. D\n2. F",
      "metadata": {}
    },
    {
      "cell_type": "markdown",
      "source": "### Punto 3\n#### Enunciado\nInvestigue sobre los planes del gobierno con respecto a la IA\n#### Referencia\n\n#### Solución\n1. D\n2. F",
      "metadata": {}
    }
  ]
}