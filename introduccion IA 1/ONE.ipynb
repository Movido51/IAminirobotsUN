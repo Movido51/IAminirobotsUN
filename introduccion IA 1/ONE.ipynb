{
  "cells": [
    {
      "cell_type": "markdown",
      "metadata": {},
      "source": [
        "# 1. Panorama de la IA\n",
        "## Ejercicios\n",
        "1. Punto 1: Dé una definicion propia de Inteligencia Artificial.\n",
        "2. Punto 2: Vea el video que se encuentra en youtube y realice un análisis de lo discutido en el documento con respecto al video.\n",
        "3. Investigue los planes del gobierno con respecto a la IA"
      ]
    },
    {
      "cell_type": "markdown",
      "metadata": {},
      "source": [
        "### Punto 1\n",
        "#### Enunciado\n",
        "Dé una definición propia de inteligencia artificial.\n",
        "#### Solución\n",
        "1. D\n",
        "2. F"
      ]
    },
    {
      "cell_type": "markdown",
      "metadata": {},
      "source": [
        "### Punto 2\n",
        "#### Enunciado\n",
        "Vea el video que se encuentra en https://www.youtube.com/watch?v=JsmKUCiPHUY&t=7s y realice un análisis de lo discutido en el documento con respecto al video.\n",
        "##### Video\n",
        "![Gravitas: These robots can produce babies | 'Xenobots' capable of 'self-replicating'](https://www.youtube.com/watch?v=JsmKUCiPHUY&t=7s)\n",
        "#### Solución\n",
        "1. D\n",
        "2. F"
      ]
    },
    {
      "cell_type": "markdown",
      "metadata": {},
      "source": [
        "### Punto 3\n",
        "#### Enunciado\n",
        "Investigue sobre los planes del gobierno con respecto a la IA\n",
        "#### Referencia\n",
        "\n",
        "#### Solución\n",
        "1. D\n",
        "2. F"
      ]
    }
  ],
  "metadata": {
    "kernelspec": {
      "display_name": "Python (Pyodide)",
      "language": "python",
      "name": "python"
    },
    "language_info": {
      "codemirror_mode": {
        "name": "python",
        "version": 3
      },
      "file_extension": ".py",
      "mimetype": "text/x-python",
      "name": "python",
      "nbconvert_exporter": "python",
      "pygments_lexer": "ipython3",
      "version": "3.8"
    }
  },
  "nbformat": 4,
  "nbformat_minor": 4
}
