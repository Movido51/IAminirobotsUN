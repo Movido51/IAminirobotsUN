{
  "metadata": {
    "kernelspec": {
      "name": "python",
      "display_name": "Python (Pyodide)",
      "language": "python"
    },
    "language_info": {
      "codemirror_mode": {
        "name": "python",
        "version": 3
      },
      "file_extension": ".py",
      "mimetype": "text/x-python",
      "name": "python",
      "nbconvert_exporter": "python",
      "pygments_lexer": "ipython3",
      "version": "3.8"
    }
  },
  "nbformat_minor": 4,
  "nbformat": 4,
  "cells": [
    {
      "cell_type": "markdown",
      "source": "# 1. Autómatas Celulares\n## Ejercicios\n1. Punto 1: Observe sus comportamientos en la casa, en la universidad y en el medio de transporte que utiliza. Encuentre, para cada uno de estos escenarios sus reglas básicas.\n2. Punto 2: En la librería de modelos de NetLogo, encuentre una aplicación de AC, describa el modelo, córralo y haga un análisis del resultado.\n3. Imprima un AC 1D en una impresora 3D.\n4. Tome el plano de una ciudad pequeña y localice, por ejemplo, las droguerias, ¿es posible que falta alguna en la ciudad? Utilice diagremas de Voronoi.\n5. Con base en las aplicaciones, escoja una de ellas y realice la simulación.",
      "metadata": {}
    },
    {
      "cell_type": "markdown",
      "source": "### Punto 1\n#### Enunciado\nObserve sus comportamientos en la casa, en la universidad y en el medio de transporte que utiliza. Encuentre, para cada uno de estos escenarios sus reglas básicas.\n#### Solución\n1. D\n   - Casa:\n   - Universidad:\n   - Trasnporte:\n   \n2. F\n   - Casa:\n   - Universidad:\n   - Trasnporte:",
      "metadata": {}
    },
    {
      "cell_type": "markdown",
      "source": "### Punto 2\n#### Enunciado\nEn la librería de modelos de NetLogo, encuentre una aplicación de AC, describa el modelo, córralo y haga un análisis del resultado.\n##### Aplicación\n![](https://www.youtube.com/watch?v=JsnKUCiPHUY&t=7s)\n#### Solución\n1. D\n2. F",
      "metadata": {}
    },
    {
      "cell_type": "markdown",
      "source": "### Punto 3\n#### Enunciado\nInvestigue sobre los planes del gobierno con respecto a la IA\n#### Referencia\n\n#### Solución\n1. D\n2. F",
      "metadata": {}
    }
  ]
}